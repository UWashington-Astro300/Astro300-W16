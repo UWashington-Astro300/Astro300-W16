{
 "cells": [
  {
   "cell_type": "markdown",
   "metadata": {},
   "source": [
    "# Python and $\\LaTeX$"
   ]
  },
  {
   "cell_type": "code",
   "execution_count": null,
   "metadata": {
    "collapsed": false
   },
   "outputs": [],
   "source": [
    "%matplotlib inline\n",
    "\n",
    "import sympy as sp\n",
    "import numpy as np\n",
    "import matplotlib.pyplot as plt"
   ]
  },
  {
   "cell_type": "markdown",
   "metadata": {},
   "source": [
    "## Python uses the $\\LaTeX$ language to typeset equations:"
   ]
  },
  {
   "cell_type": "markdown",
   "metadata": {},
   "source": [
    "### Use a single set of `$` to make your $\\LaTeX$ inline and a double set `$$` to center"
   ]
  },
  {
   "cell_type": "markdown",
   "metadata": {},
   "source": [
    "### $$ \\int \\cos(x)\\ dx = \\sin(x) $$"
   ]
  },
  {
   "cell_type": "markdown",
   "metadata": {},
   "source": [
    "## Use can use $\\LaTeX$ in plots:"
   ]
  },
  {
   "cell_type": "code",
   "execution_count": null,
   "metadata": {
    "collapsed": false
   },
   "outputs": [],
   "source": [
    "plt.style.use('ggplot')\n",
    "\n",
    "x = np.linspace(0,2*np.pi,100)\n",
    "y = np.sin(5*x) * np.exp(-x)\n",
    "\n",
    "plt.plot(x,y)\n",
    "plt.title(\"The function $y\\ =\\ \\sin(5x)\\ e^{-x}$\")\n",
    "plt.xlabel(\"This is in units of 2$\\pi$\")"
   ]
  },
  {
   "cell_type": "markdown",
   "metadata": {},
   "source": [
    "## Use can use `sympy` to make $\\LaTeX$ equations for you!"
   ]
  },
  {
   "cell_type": "code",
   "execution_count": null,
   "metadata": {
    "collapsed": false
   },
   "outputs": [],
   "source": [
    "z = sp.symbols('z')"
   ]
  },
  {
   "cell_type": "code",
   "execution_count": null,
   "metadata": {
    "collapsed": false
   },
   "outputs": [],
   "source": [
    "a =  1/( (z+2)*(z+1) )\n",
    "\n",
    "print(sp.latex(a))"
   ]
  },
  {
   "cell_type": "markdown",
   "metadata": {},
   "source": [
    "$$ \\frac{1}{\\left(z + 1\\right) \\left(z + 2\\right)} $$"
   ]
  },
  {
   "cell_type": "code",
   "execution_count": null,
   "metadata": {
    "collapsed": false
   },
   "outputs": [],
   "source": [
    "print(sp.latex(sp.Integral(z**2,z)))"
   ]
  },
  {
   "cell_type": "markdown",
   "metadata": {},
   "source": [
    "$$ \\int z^{2}\\, dz $$"
   ]
  },
  {
   "cell_type": "markdown",
   "metadata": {},
   "source": [
    "## `Astropy` can output $\\LaTeX$ tables"
   ]
  },
  {
   "cell_type": "code",
   "execution_count": null,
   "metadata": {
    "collapsed": true
   },
   "outputs": [],
   "source": [
    "from astropy.io import ascii\n",
    "from astropy.table import QTable"
   ]
  },
  {
   "cell_type": "code",
   "execution_count": null,
   "metadata": {
    "collapsed": true
   },
   "outputs": [],
   "source": [
    "T = QTable.read('Zodiac.csv', format='ascii.csv')"
   ]
  },
  {
   "cell_type": "code",
   "execution_count": null,
   "metadata": {
    "collapsed": false
   },
   "outputs": [],
   "source": [
    "T"
   ]
  },
  {
   "cell_type": "code",
   "execution_count": null,
   "metadata": {
    "collapsed": false
   },
   "outputs": [],
   "source": [
    "ascii.write(T, format='latex')"
   ]
  },
  {
   "cell_type": "markdown",
   "metadata": {},
   "source": [
    "---\n",
    "\n",
    "## Some websites to open up for class:"
   ]
  },
  {
   "cell_type": "markdown",
   "metadata": {},
   "source": [
    "- ## [ShareLatex](https://www.sharelatex.com/)\n",
    "\n",
    "- ## [Special Relativity](https://en.wikipedia.org/wiki/Special_relativity)\n",
    "\n",
    "- ## [Latex Symbols](https://en.wikipedia.org/wiki/Wikipedia:LaTeX_symbols)\n",
    "\n",
    "- ## [Latex draw symbols](http://detexify.kirelabs.org/classify.html)\n",
    "\n",
    "- ## [The SAO/NASA Astrophysics Data System](https://ui.adsabs.harvard.edu/#classic-form)\n",
    "\n",
    "---\n",
    "\n",
    "- ## [Latex wikibook](https://en.wikibooks.org/wiki/LaTeX)"
   ]
  },
  {
   "cell_type": "markdown",
   "metadata": {},
   "source": [
    "---\n",
    "\n",
    "## Assignment for Week 8"
   ]
  },
  {
   "cell_type": "raw",
   "metadata": {
    "collapsed": true
   },
   "source": [
    "-----------------------------------------------------------------------------\n",
    "LaTeX homework - Create a LaTeX document with references.\n",
    "-----------------------------------------------------------------------------\n",
    "\n",
    "Start with the file: Example.tex\n",
    "\n",
    "Minimum required elements:\n",
    "\n",
    "* Between 2 and 4 pages in length                              \n",
    "  (pages > 4 will be ignored).\n",
    "\n",
    "* At least two paragraphs of text (the text does not need to be coherent).\n",
    "\n",
    "* At least 5 references from ADS                        \n",
    "\n",
    "  * http://adsabs.harvard.edu/abstract_service.html\n",
    "  * Make sure to \\cite{} the references in your paper\n",
    "\n",
    "* The equation below                                           \n",
    "\n",
    "* One (or more) equation(s) of your choice.                 \n",
    "\n",
    "* One Compulsory plot generated with python (png format)    \n",
    "\n",
    "  * Start with t = np.linspace(0,12*np.pi,2000)\n",
    "  * generate a butterfly plot: \n",
    "    http://en.wikipedia.org/wiki/Butterfly_curve_(transcendental)\n",
    "\n",
    "* One freestyle plot (do not reuse and old one!)               \n",
    "\n",
    "* One table of at least 4 columns and 4 rows.\n",
    "\n",
    "* Bonus points given for interesting content!\n",
    "\n",
    "-----------------------------------------------------------------------------\n",
    "\n",
    "Compulsory equation to LaTeX :\n",
    "\n",
    "                            - inf  - pi              zeta               ------\n",
    "                    2 pi   |      |       sin(2theta)                  /  angstrom\n",
    "T(M    ,theta)  =  ------   |      |    ---------------  dM  dtheta  \\/ Z     \n",
    "   j          i    Gamma   - e    - hbar   log(M    )                    n!\n",
    "                                                Lambda \n",
    "\n",
    "-----------------------------------------------------------------------------\n",
    "      \n",
    "Create a PDF file:\n",
    "\n",
    "Save the file as FirstLast.pdf  (i.e. TobySmith.pdf)\n",
    "\n",
    "Copy it to the Homework directory:\n",
    "\n",
    "% chmod 644 FirstLast.pdf\n",
    "% cp FirstLast.pdf ~pikaia/HOMEWORK/\n",
    "\n",
    "-----------------------------------------------------------------------------\n",
    "Deadline: Tuesday Mar 2 - 5pm (-5 pts for each 30 minutes late)\n",
    "-----------------------------------------------------------------------------"
   ]
  }
 ],
 "metadata": {
  "kernelspec": {
   "display_name": "Python 3",
   "language": "python",
   "name": "python3"
  },
  "language_info": {
   "codemirror_mode": {
    "name": "ipython",
    "version": 3
   },
   "file_extension": ".py",
   "mimetype": "text/x-python",
   "name": "python",
   "nbconvert_exporter": "python",
   "pygments_lexer": "ipython3",
   "version": "3.4.4"
  }
 },
 "nbformat": 4,
 "nbformat_minor": 0
}
