{
 "cells": [
  {
   "cell_type": "markdown",
   "metadata": {},
   "source": [
    "## First Last - Homework \\#5"
   ]
  },
  {
   "cell_type": "code",
   "execution_count": null,
   "metadata": {
    "collapsed": false
   },
   "outputs": [],
   "source": [
    "%matplotlib inline\n",
    "\n",
    "import numpy as np\n",
    "import astropy.units as u\n",
    "import matplotlib.pyplot as plt\n",
    "\n",
    "from astroplan import Observer, FixedTarget\n",
    "from astropy.time import Time\n",
    "from astropy.coordinates import SkyCoord\n",
    "from astroplan.plots import plot_sky, plot_airmass\n",
    "\n",
    "import warnings\n",
    "warnings.filterwarnings('ignore', category=Warning)"
   ]
  },
  {
   "cell_type": "markdown",
   "metadata": {},
   "source": [
    "## Planning observations"
   ]
  },
  {
   "cell_type": "markdown",
   "metadata": {},
   "source": [
    "### I have given you data on three observatories and three celestial targets. Your job is to determine the best time of year and the best observatory to observe each of the three targets.\n",
    "\n",
    "- The best time of year should be a two week period of time during the year 2016.\n",
    "- Pick a single night durning this two week time period.\n",
    "- A review of astronomical coordinates can be found [here](./Astro_Coordinates.pdf)"
   ]
  },
  {
   "cell_type": "markdown",
   "metadata": {},
   "source": [
    "## 30 Doradus (NGC 2070)"
   ]
  },
  {
   "cell_type": "code",
   "execution_count": null,
   "metadata": {
    "collapsed": false
   },
   "outputs": [],
   "source": []
  },
  {
   "cell_type": "markdown",
   "metadata": {},
   "source": [
    "## HD 209458"
   ]
  },
  {
   "cell_type": "code",
   "execution_count": null,
   "metadata": {
    "collapsed": true
   },
   "outputs": [],
   "source": []
  },
  {
   "cell_type": "markdown",
   "metadata": {},
   "source": [
    "## M51"
   ]
  },
  {
   "cell_type": "code",
   "execution_count": null,
   "metadata": {
    "collapsed": true
   },
   "outputs": [],
   "source": []
  },
  {
   "cell_type": "markdown",
   "metadata": {},
   "source": [
    "---\n",
    "\n",
    "## Observatories\n",
    "\n",
    "Mauna Kea Observatories (Mauna Kea, Hawaii)\n",
    "- lat = 19.8244 deg\n",
    "- lon = -155.4733 deg\n",
    "- elevation = 4159 m\n",
    "\n",
    "Siding Spring Observatory (Coonabarabran, Australia)\n",
    "- lat = -31.2733 deg\n",
    "- lon = 149.0644 deg\n",
    "- elevation = 1165 m\n",
    "\n",
    "Roque de los Muchachos Observatory (La Palma, Canary Islands)\n",
    "- lat = 28.7636 deg\n",
    "- lon = -17.8947 deg\n",
    "- elevation = 2396 m\n",
    "\n",
    "---\n",
    "\n",
    "## Targets\n",
    "\n",
    "- 30 Doradus (NGC 2070) - * HII Region *\n",
    "- HD 209458 - * G-Type star with a transiting exoplanet *\n",
    "- M51 - * Spiral Galaxy *\n",
    "\n",
    "You can [SIMBAD](http://simbad.u-strasbg.fr/simbad/sim-fbasic) to find the `ICRS` (International Celestial Reference System) coordinates for the targets, or try the `FixedTarget.from_name()` function\n",
    "\n",
    "---"
   ]
  },
  {
   "cell_type": "markdown",
   "metadata": {},
   "source": [
    "### Due Tue Feb 09 - 5pm\n",
    "- `cp FirstLast_HW5.ipynb ~pikaia/HOMEWORK`\n",
    "- Make sure to change the file name to your name!\n",
    "- Make sure to change the title to your name!"
   ]
  }
 ],
 "metadata": {
  "kernelspec": {
   "display_name": "Python 3",
   "language": "python",
   "name": "python3"
  },
  "language_info": {
   "codemirror_mode": {
    "name": "ipython",
    "version": 3
   },
   "file_extension": ".py",
   "mimetype": "text/x-python",
   "name": "python",
   "nbconvert_exporter": "python",
   "pygments_lexer": "ipython3",
   "version": "3.4.4"
  }
 },
 "nbformat": 4,
 "nbformat_minor": 0
}
