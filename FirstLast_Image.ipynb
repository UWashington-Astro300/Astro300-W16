{
 "cells": [
  {
   "cell_type": "markdown",
   "metadata": {},
   "source": [
    "## First Last - Image Homework"
   ]
  },
  {
   "cell_type": "code",
   "execution_count": null,
   "metadata": {
    "collapsed": true
   },
   "outputs": [],
   "source": [
    "%matplotlib inline\n",
    "\n",
    "import numpy as np\n",
    "import matplotlib.pyplot as plt"
   ]
  },
  {
   "cell_type": "markdown",
   "metadata": {},
   "source": [
    ">The Mars Exploration Rover (MER) site is a treasure trove of\n",
    ">multispectral planetary images.  The two rovers each have the ability\n",
    ">to image Mars through various color filters (in fact they can ONLY\n",
    ">image through the filters).  This means that in order to make a \"true\n",
    ">color\" image you have to combine different filters into one\n",
    ">pseudocolor image.\n",
    "\n",
    ">Your assignment is to create two pseudocolor RGB images from raw MER images."
   ]
  },
  {
   "cell_type": "markdown",
   "metadata": {},
   "source": [
    "### The MER images are named with a <a href=\"http://marsrovers.jpl.nasa.gov/gallery/edr_filename_key.html\">27 character name</a>\n",
    "\n",
    "- For example:  1P320301053EFFABFNP2569**R2**M1.JPG\n",
    "\n",
    "- The important part is the bit in **bold**\n",
    "\n",
    "- The **R** means the image is from the Right camera\n",
    "\n",
    "- The **2** means that it was taken through filter 2.\n",
    "\n",
    "- The MER camera have many <a href=\"http://www.ominous-valve.com/pancam.html\">different bandpasses</a>"
   ]
  },
  {
   "cell_type": "markdown",
   "metadata": {},
   "source": [
    "## Part 1:"
   ]
  },
  {
   "cell_type": "markdown",
   "metadata": {},
   "source": [
    "> The left camera has filters that are in the visible part of the spectrum. A pseudocolor visible color images can be made by \n",
    "> using the filters **4**,**5**, and **6** from the **Left** camera."
   ]
  },
  {
   "cell_type": "markdown",
   "metadata": {},
   "source": [
    "- Go to the <a href=\"http://marsrovers.jpl.nasa.gov/gallery/all/\">MER Site</a> and pick a rover.\n",
    "\n",
    "- Pick a day with a lot of **Panoramic Camera** images (at least 20).\n",
    "\n",
    "- Find a **Panoramic Camera** scene you like with a full set of **LEFT** filters. You may have to look at many different days.\n",
    "\n",
    "- Only use the **Full Frame EDR** images.\n",
    "\n",
    "- Do NOT use images of the rover calibration target. The thing that looks like a small black post.\n",
    "\n",
    "- Download the 3 different Left camera filter images. (one in red, one green, one blue).\n",
    "\n",
    "- Create a pseudocolor RGB image from filters R = **4**, G = **5**, B = **6**. "
   ]
  },
  {
   "cell_type": "code",
   "execution_count": null,
   "metadata": {
    "collapsed": false
   },
   "outputs": [],
   "source": []
  },
  {
   "cell_type": "markdown",
   "metadata": {},
   "source": [
    "## Part 2:"
   ]
  },
  {
   "cell_type": "markdown",
   "metadata": {},
   "source": [
    ">The right camera has filters that are all in the near infrared.  This\n",
    ">is because rock minerals have lots of cool spectral features in the\n",
    ">nearIR.  In particular, the soil of Mars is very strong at very long\n",
    ">wavelengths."
   ]
  },
  {
   "cell_type": "markdown",
   "metadata": {},
   "source": [
    "- Find another Full Frame EDR Panoramic Camera scene with a full set of **RIGHT** filters.\n",
    "\n",
    "- Create a pseudocolor RGB image from filters R = **1**, G = **2**, B = **6**. \n",
    "\n",
    "- Make the regions that are soil-rich bright in the blue channel (soil-rich regions should look blue)."
   ]
  },
  {
   "cell_type": "code",
   "execution_count": null,
   "metadata": {
    "collapsed": false
   },
   "outputs": [],
   "source": []
  },
  {
   "cell_type": "markdown",
   "metadata": {},
   "source": [
    "## Part 3"
   ]
  },
  {
   "cell_type": "markdown",
   "metadata": {},
   "source": [
    "For the next Astro 300 class I am going to use a new online interface to the LaTeX scientific typesetting system. \n",
    "To do this, you will need to sign up for a free account on the ShareLaTeX system before the next class.\n",
    "\n",
    "* Remember your account name and password, we will use them during class. \n",
    "\n",
    "* Please use the following link to sign up for the system: https://www.sharelatex.com?r=f33161ec&rm=d&rs=b \n",
    "\n",
    "* When you have an account, change the XXXXXXXX to the correct info"
   ]
  },
  {
   "cell_type": "markdown",
   "metadata": {},
   "source": [
    "## My ShareLaTeX user name is: XXXXXXXXXX"
   ]
  },
  {
   "cell_type": "markdown",
   "metadata": {},
   "source": [
    "Copy your notebook to the Homework directory:\n",
    "\n",
    "- `cp FirstLast_Image.ipynb ~pikaia/HOMEWORK/`\n",
    "\n",
    "- Deadline: Tuesday Feb 23 - 5pm (-5 pts for each 30 minutes late)\n",
    "\n",
    "- Make sure to rename your file and notebook"
   ]
  },
  {
   "cell_type": "code",
   "execution_count": 1,
   "metadata": {
    "collapsed": true
   },
   "outputs": [],
   "source": [
    "# !cp FirstLast_Image.ipynb ~pikaia/HOMEWORK/"
   ]
  }
 ],
 "metadata": {
  "kernelspec": {
   "display_name": "Python 3",
   "language": "python",
   "name": "python3"
  },
  "language_info": {
   "codemirror_mode": {
    "name": "ipython",
    "version": 3
   },
   "file_extension": ".py",
   "mimetype": "text/x-python",
   "name": "python",
   "nbconvert_exporter": "python",
   "pygments_lexer": "ipython3",
   "version": "3.4.4"
  }
 },
 "nbformat": 4,
 "nbformat_minor": 0
}
