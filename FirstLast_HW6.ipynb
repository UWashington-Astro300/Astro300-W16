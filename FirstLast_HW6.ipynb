{
 "cells": [
  {
   "cell_type": "markdown",
   "metadata": {},
   "source": [
    "## First Last - Homework 6"
   ]
  },
  {
   "cell_type": "code",
   "execution_count": null,
   "metadata": {
    "collapsed": false
   },
   "outputs": [],
   "source": [
    "%matplotlib inline\n",
    "import matplotlib.pyplot as plt\n",
    "\n",
    "import numpy as np\n",
    "from astropy.table import QTable"
   ]
  },
  {
   "cell_type": "markdown",
   "metadata": {},
   "source": [
    "### The file `SDSS_MainBelt.csv` contains data on objects in the asteroid belt collected by the [Sloan Digital Sky Survey](http://www.sdss.org/).\n",
    "\n",
    "The columns are:\n",
    "- **`Name`** - Object name\n",
    "- **`a`** - semi-major axis\n",
    "- **`cA`** - SDSS a$^*$ color\n",
    "- **`cI`** - SDSS i color (near infrared)\n",
    "- **`cZ`** - SDSS z color (infrared)\n",
    "- **`X`** - X position [au] - Sun-centered coords (10/29/2014)\n",
    "- **`Y`** - Y position [au] - Sun-centered coords (10/29/2014)\n",
    "- **`Z`** - Z position [au] - Sun-centered coords (10/29/2014)"
   ]
  },
  {
   "cell_type": "markdown",
   "metadata": {},
   "source": [
    "### Read in the file `SDSS_MainBelt.csv`"
   ]
  },
  {
   "cell_type": "code",
   "execution_count": null,
   "metadata": {
    "collapsed": false
   },
   "outputs": [],
   "source": []
  },
  {
   "cell_type": "markdown",
   "metadata": {},
   "source": [
    "## The Kirkwood Gaps - Mean Motion Resonances\n",
    "- Orbital period [years]: `P` = a ** (3/2)\n",
    "- Orbital Period of Jupiter: `Pjup` = 11.8618 years\n",
    "- Make a histogram of: (`Pjup / P`)\n",
    "- Bins = 150\n",
    "- Invert the x-axis\n",
    "- Draw vertical lines at (`Pjup / P`) = 1,2,3,4\n",
    "- Label the axis\n",
    "- Make the plot look nice"
   ]
  },
  {
   "cell_type": "code",
   "execution_count": null,
   "metadata": {
    "collapsed": false
   },
   "outputs": [],
   "source": []
  },
  {
   "cell_type": "markdown",
   "metadata": {},
   "source": [
    "## The Position of the Asteroids \n",
    "- Make a plot of X vs Y for the asteroids \n",
    "- Make sure that 1 unit in X = 1 unit in Y\n",
    "- Make the axes go through (0,0)\n",
    "- Make the plot look nice"
   ]
  },
  {
   "cell_type": "code",
   "execution_count": null,
   "metadata": {
    "collapsed": false
   },
   "outputs": [],
   "source": []
  },
  {
   "cell_type": "markdown",
   "metadata": {},
   "source": [
    "## The Color of the Asteroids \n",
    "- Make three (3) plots in one row\n",
    "- In each panel, put a plot of all of the asteroid positions as viewed from above. Use alpha = 0.20\n",
    "- In the first panel, overplot the positions of C-Type asteroids using a different color and symbol\n",
    "- In the second panel, overplot the positions of S-Type asteroids using a different color and symbol\n",
    "- In the third panel, overplot the positions of V-Type asteroids using a different color and symbol\n",
    "- The asteroid types can be determined from their colors (see image below)\n",
    "- Make the plot look nice"
   ]
  },
  {
   "cell_type": "code",
   "execution_count": null,
   "metadata": {
    "collapsed": false
   },
   "outputs": [],
   "source": []
  },
  {
   "cell_type": "markdown",
   "metadata": {},
   "source": [
    "## Fitting data to a function\n",
    "- The datafile `'FitMe.csv'` contains two columns of data (x,y)\n",
    "- Plot the data x,y\n",
    "- Fit the function below to the data\n",
    "- Find the values of a,b,c that best fit the data\n",
    "- Plot the fit with the data\n",
    "- Make the plots look nice"
   ]
  },
  {
   "cell_type": "markdown",
   "metadata": {},
   "source": [
    "$$\\Large f(x) = a \\sin(bx) \\ e^{-cx} $$"
   ]
  },
  {
   "cell_type": "code",
   "execution_count": null,
   "metadata": {
    "collapsed": false
   },
   "outputs": [],
   "source": []
  },
  {
   "cell_type": "markdown",
   "metadata": {},
   "source": [
    "---\n",
    "\n",
    "### Asteroid classes - SDSS Colors\n",
    "\n",
    "---\n",
    "\n",
    "<center><img src=\"images/Colors.jpg\" width=600px></center>"
   ]
  },
  {
   "cell_type": "markdown",
   "metadata": {},
   "source": [
    "### Due Tues Feb 16 - 5pm\n",
    "- `cp FirstLast_HW6.ipynb ~pikaia/HOMEWORK/`\n",
    "- Make sure to change the file name and Title to your name!"
   ]
  },
  {
   "cell_type": "code",
   "execution_count": null,
   "metadata": {
    "collapsed": true
   },
   "outputs": [],
   "source": []
  }
 ],
 "metadata": {
  "kernelspec": {
   "display_name": "Python 3",
   "language": "python",
   "name": "python3"
  },
  "language_info": {
   "codemirror_mode": {
    "name": "ipython",
    "version": 3
   },
   "file_extension": ".py",
   "mimetype": "text/x-python",
   "name": "python",
   "nbconvert_exporter": "python",
   "pygments_lexer": "ipython3",
   "version": "3.4.4"
  }
 },
 "nbformat": 4,
 "nbformat_minor": 0
}
