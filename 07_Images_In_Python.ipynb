{
 "cells": [
  {
   "cell_type": "markdown",
   "metadata": {},
   "source": [
    "# Multidimentional data - Matrices and Images"
   ]
  },
  {
   "cell_type": "code",
   "execution_count": null,
   "metadata": {
    "collapsed": false
   },
   "outputs": [],
   "source": [
    "%matplotlib inline\n",
    "\n",
    "import numpy as np\n",
    "import matplotlib.pyplot as plt\n",
    "\n",
    "from scipy import linalg"
   ]
  },
  {
   "cell_type": "code",
   "execution_count": null,
   "metadata": {
    "collapsed": true
   },
   "outputs": [],
   "source": [
    "plt.style.use('ggplot')\n",
    "plt.rc('axes', grid=False)   # turn off the background grid for images"
   ]
  },
  {
   "cell_type": "markdown",
   "metadata": {},
   "source": [
    "Let us work with the matrix:\n",
    "$\n",
    "\\left[\n",
    "\\begin{array}{cc}\n",
    "1 & 2 \\\\\n",
    "1 & 1\n",
    "\\end{array}\n",
    "\\right]\n",
    "$"
   ]
  },
  {
   "cell_type": "code",
   "execution_count": null,
   "metadata": {
    "collapsed": false
   },
   "outputs": [],
   "source": [
    "M = np.array([[1,2],[1,1]])\n",
    "\n",
    "M, M.shape"
   ]
  },
  {
   "cell_type": "code",
   "execution_count": null,
   "metadata": {
    "collapsed": false
   },
   "outputs": [],
   "source": [
    "N = np.transpose(M)\n",
    "\n",
    "N, N.shape"
   ]
  },
  {
   "cell_type": "code",
   "execution_count": null,
   "metadata": {
    "collapsed": false
   },
   "outputs": [],
   "source": [
    "IM = linalg.inv(M)\n",
    "\n",
    "IM"
   ]
  },
  {
   "cell_type": "markdown",
   "metadata": {},
   "source": [
    "### numpy matrix multiply uses the `dot()` function:"
   ]
  },
  {
   "cell_type": "code",
   "execution_count": null,
   "metadata": {
    "collapsed": false
   },
   "outputs": [],
   "source": [
    "IM.dot(M)"
   ]
  },
  {
   "cell_type": "markdown",
   "metadata": {},
   "source": [
    "### Caution the `*` will just multiply the matricies on an element-by-element basis:"
   ]
  },
  {
   "cell_type": "code",
   "execution_count": null,
   "metadata": {
    "collapsed": false
   },
   "outputs": [],
   "source": [
    "IM * M"
   ]
  },
  {
   "cell_type": "markdown",
   "metadata": {},
   "source": [
    "### Solving system of linear equations"
   ]
  },
  {
   "cell_type": "markdown",
   "metadata": {},
   "source": [
    "$$\n",
    "\\begin{array}{c}\n",
    "x + 2y = 4 \\\\\n",
    "x + y = 3 \\\\\n",
    "\\end{array}\n",
    "\\hspace{2cm}\n",
    "\\left[\n",
    "\\begin{array}{cc}\n",
    "1 & 2 \\\\\n",
    "1 & 1 \\\\\n",
    "\\end{array}\n",
    "\\right]\n",
    "\\left[\n",
    "\\begin{array}{c}\n",
    "x\\\\\n",
    "y\n",
    "\\end{array}\n",
    "\\right]\n",
    "=\n",
    "\\left[\n",
    "\\begin{array}{c}\n",
    "4\\\\\n",
    "3\\\\ \n",
    "\\end{array}\n",
    "\\right]\n",
    "\\hspace{2cm}\n",
    "{\\bf A}x = {\\bf b}\n",
    "\\hspace{2cm}\n",
    "\\left[\n",
    "\\begin{array}{c}\n",
    "x\\\\\n",
    "y\n",
    "\\end{array}\n",
    "\\right]\n",
    "=\n",
    "\\left[\n",
    "\\begin{array}{cc}\n",
    "1 & 2 \\\\\n",
    "1 & 1 \\\\\n",
    "\\end{array}\n",
    "\\right]^{-1}\n",
    "\\left[\n",
    "\\begin{array}{c}\n",
    "4\\\\\n",
    "3\\\\ \n",
    "\\end{array}\n",
    "\\right]\n",
    "=\n",
    "\\left[\n",
    "\\begin{array}{c}\n",
    "2\\\\\n",
    "1\n",
    "\\end{array}\n",
    "\\right]\n",
    "$$"
   ]
  },
  {
   "cell_type": "code",
   "execution_count": null,
   "metadata": {
    "collapsed": false
   },
   "outputs": [],
   "source": [
    "A = np.array([[1,2],[1,1]])\n",
    "\n",
    "A, A.shape"
   ]
  },
  {
   "cell_type": "code",
   "execution_count": null,
   "metadata": {
    "collapsed": false
   },
   "outputs": [],
   "source": [
    "b = np.array([[4],[3]])\n",
    "\n",
    "b, b.shape"
   ]
  },
  {
   "cell_type": "code",
   "execution_count": null,
   "metadata": {
    "collapsed": false
   },
   "outputs": [],
   "source": [
    "# Solve by inverting A and then mulitply by b\n",
    "\n",
    "linalg.inv(A).dot(b) "
   ]
  },
  {
   "cell_type": "code",
   "execution_count": null,
   "metadata": {
    "collapsed": false
   },
   "outputs": [],
   "source": [
    "# Cleaner looking\n",
    "\n",
    "linalg.solve(A,b)"
   ]
  },
  {
   "cell_type": "markdown",
   "metadata": {},
   "source": [
    "### System of 3 equations example (Numpy):"
   ]
  },
  {
   "cell_type": "markdown",
   "metadata": {},
   "source": [
    "$$\n",
    "\\begin{array}{c}\n",
    "x + 3y + 5z = 10 \\\\\n",
    "2x + 5y + z = 8 \\\\\n",
    "2x + 3y + 8z = 3 \\\\\n",
    "\\end{array}\n",
    "\\hspace{3cm}\n",
    "\\left[\n",
    "\\begin{array}{ccc}\n",
    "1 & 3 & 5 \\\\\n",
    "2 & 5 & 1 \\\\\n",
    "2 & 3 & 8 \n",
    "\\end{array}\n",
    "\\right]\n",
    "\\left[\n",
    "\\begin{array}{c}\n",
    "x\\\\\n",
    "y\\\\\n",
    "z \n",
    "\\end{array}\n",
    "\\right]\n",
    "=\n",
    "\\left[\n",
    "\\begin{array}{c}\n",
    "10\\\\\n",
    "8\\\\\n",
    "3 \n",
    "\\end{array}\n",
    "\\right]\n",
    "$$"
   ]
  },
  {
   "cell_type": "code",
   "execution_count": null,
   "metadata": {
    "collapsed": false
   },
   "outputs": [],
   "source": [
    "A = np.array([[1,3,5],[2,5,1],[2,3,8]])\n",
    "b = np.array([[10],[8],[3]])\n",
    "\n",
    "print(linalg.inv(A))\n",
    "\n",
    "print(linalg.solve(A,b))"
   ]
  },
  {
   "cell_type": "markdown",
   "metadata": {},
   "source": [
    "### System of 3 equations example (SymPy) - Python's Symbolic Math Package"
   ]
  },
  {
   "cell_type": "code",
   "execution_count": null,
   "metadata": {
    "collapsed": false
   },
   "outputs": [],
   "source": [
    "import sympy as sym\n",
    "\n",
    "AA = sym.Matrix([[1,3,5],[2,5,1],[2,3,8]])\n",
    "bb = sym.Matrix([[10],[8],[3]])\n",
    "\n",
    "print(AA**-1)\n",
    "\n",
    "print(AA**-1 * bb)"
   ]
  },
  {
   "cell_type": "markdown",
   "metadata": {},
   "source": [
    "### SymPy is slower than NumPy"
   ]
  },
  {
   "cell_type": "code",
   "execution_count": null,
   "metadata": {
    "collapsed": false
   },
   "outputs": [],
   "source": [
    "%timeit AA**-1 * bb\n",
    "%timeit linalg.solve(A,b)"
   ]
  },
  {
   "cell_type": "markdown",
   "metadata": {},
   "source": [
    "# Images are just 2-d arrays - `imshow` will display 2-d arrays as images"
   ]
  },
  {
   "cell_type": "code",
   "execution_count": null,
   "metadata": {
    "collapsed": false
   },
   "outputs": [],
   "source": [
    "print(A)\n",
    "\n",
    "plt.imshow(A, interpolation='nearest', cmap=plt.cm.Blues);"
   ]
  },
  {
   "cell_type": "markdown",
   "metadata": {},
   "source": [
    "### Create some data"
   ]
  },
  {
   "cell_type": "code",
   "execution_count": null,
   "metadata": {
    "collapsed": false
   },
   "outputs": [],
   "source": [
    "np.random.seed(42)\n",
    "I = np.random.triangular(-3, 0, 8, (512,256))     # Create a 512x256 array of data in a Triangular distribution\n",
    "                                                  # Think of this as a 2-d array of height = 512, width = 256"
   ]
  },
  {
   "cell_type": "code",
   "execution_count": null,
   "metadata": {
    "collapsed": false
   },
   "outputs": [],
   "source": [
    "I.ndim, I.shape, I.dtype"
   ]
  },
  {
   "cell_type": "code",
   "execution_count": null,
   "metadata": {
    "collapsed": false
   },
   "outputs": [],
   "source": [
    "print(\"The minimum value of the array I is {0:.2f}\".format(I.min()))\n",
    "print(\"The maximum value of the array I is {0:.2f}\".format(I.max()))\n",
    "print(\"The mean value of the array I is {0:.2f}\".format(I.mean()))\n",
    "print(\"The standard deviation of the array I is {0:.2f}\".format(I.std()))"
   ]
  },
  {
   "cell_type": "code",
   "execution_count": null,
   "metadata": {
    "collapsed": false
   },
   "outputs": [],
   "source": [
    "#flatten collapses n-dimentional data into 1-d\n",
    "\n",
    "plt.hist(I.flatten(),bins=30);"
   ]
  },
  {
   "cell_type": "markdown",
   "metadata": {},
   "source": [
    "### Math on images applies to every value (pixel)"
   ]
  },
  {
   "cell_type": "code",
   "execution_count": null,
   "metadata": {
    "collapsed": false
   },
   "outputs": [],
   "source": [
    "II = I + 8\n",
    "\n",
    "print(\"The minimum value of the array II is {0:.2f}\".format(II.min()))\n",
    "print(\"The maximum value of the array II is {0:.2f}\".format(II.max()))\n",
    "print(\"The mean value of the array II is {0:.2f}\".format(II.mean()))\n",
    "print(\"The standard deviation of the array II is {0:.2f}\".format(II.std()))"
   ]
  },
  {
   "cell_type": "markdown",
   "metadata": {},
   "source": [
    "### Show the image represenation of `I` with a colorbar"
   ]
  },
  {
   "cell_type": "code",
   "execution_count": null,
   "metadata": {
    "collapsed": false
   },
   "outputs": [],
   "source": [
    "plt.imshow(I, cmap=plt.cm.gray)\n",
    "plt.colorbar();"
   ]
  },
  {
   "cell_type": "markdown",
   "metadata": {},
   "source": [
    "### Colormap reference: http://matplotlib.org/examples/color/colormaps_reference.html"
   ]
  },
  {
   "cell_type": "code",
   "execution_count": null,
   "metadata": {
    "collapsed": false
   },
   "outputs": [],
   "source": [
    "fig, ax = plt.subplots(1,5,sharey=True)\n",
    "\n",
    "fig.set_size_inches(12,6)\n",
    "\n",
    "fig.tight_layout()\n",
    "\n",
    "ax[0].imshow(I, cmap=plt.cm.cool)\n",
    "ax[0].set_xlabel('cool')\n",
    "\n",
    "ax[1].imshow(I, cmap=plt.cm.hot)\n",
    "ax[1].set_xlabel('hot')\n",
    "\n",
    "ax[2].imshow(I, cmap=plt.cm.magma)\n",
    "ax[2].set_xlabel('magma')\n",
    "\n",
    "ax[3].imshow(I, cmap=plt.cm.spectral)\n",
    "ax[3].set_xlabel('spectral')\n",
    "\n",
    "ax[4].imshow(I, cmap=plt.cm.gray)\n",
    "ax[4].set_xlabel('gray')"
   ]
  },
  {
   "cell_type": "markdown",
   "metadata": {},
   "source": [
    "## WARNING! Common image formats DO NOT preserve dynamic range of original data!!\n",
    "- Common image formates are **NOT** suitable for scientific data!"
   ]
  },
  {
   "cell_type": "code",
   "execution_count": null,
   "metadata": {
    "collapsed": false
   },
   "outputs": [],
   "source": [
    "plt.imsave('TrangleNoise.png', I, cmap=plt.cm.gray)     # Write the array I to a PNG file\n",
    "\n",
    "Ipng = plt.imread('TrangleNoise.png')                   # Read in the PNG file\n",
    "\n",
    "print(\"The original data has a min = {0:.2f} and a max = {1:.2f}\".format(I.min(), I.max()))\n",
    "\n",
    "print(\"The PNG file has a min = {0:.2f} and a max = {1:.2f}\".format(Ipng.min(), Ipng.max()))"
   ]
  },
  {
   "cell_type": "markdown",
   "metadata": {},
   "source": [
    "## Creating images from math"
   ]
  },
  {
   "cell_type": "code",
   "execution_count": null,
   "metadata": {
    "collapsed": false
   },
   "outputs": [],
   "source": [
    "X = np.linspace(-5, 5, 500)\n",
    "Y = np.linspace(-5, 5, 500)\n",
    "\n",
    "X, Y = np.meshgrid(X, Y)     # turns two 1-d arrays (X, Y) into one 2-d grid\n",
    "\n",
    "Z = np.sqrt(X**2+Y**2)+np.sin(X**2+Y**2)\n",
    "\n",
    "Z.min(), Z.max(), Z.mean()"
   ]
  },
  {
   "cell_type": "markdown",
   "metadata": {},
   "source": [
    "### Fancy Image Display"
   ]
  },
  {
   "cell_type": "code",
   "execution_count": null,
   "metadata": {
    "collapsed": false
   },
   "outputs": [],
   "source": [
    "from matplotlib.colors import LightSource\n",
    "\n",
    "ls = LightSource(azdeg=0,altdeg=40)\n",
    "shadedfig = ls.shade(Z,plt.cm.copper)\n",
    "\n",
    "fig, ax = plt.subplots(1,3)\n",
    "\n",
    "fig.set_size_inches(12,6)\n",
    "\n",
    "fig.tight_layout()\n",
    "\n",
    "ax[0].imshow(shadedfig)\n",
    "\n",
    "contlevels = [1,2,Z.mean()]\n",
    "\n",
    "ax[1].axis('equal')\n",
    "ax[1].contour(Z,contlevels)\n",
    "\n",
    "ax[2].imshow(shadedfig)\n",
    "ax[2].contour(Z,contlevels);"
   ]
  },
  {
   "cell_type": "markdown",
   "metadata": {},
   "source": [
    "### Reading in images - Common Formats"
   ]
  },
  {
   "cell_type": "code",
   "execution_count": null,
   "metadata": {
    "collapsed": false
   },
   "outputs": [],
   "source": [
    "I2 = plt.imread('doctor5.png')\n",
    "\n",
    "print(\"The image I2 has a shape [height,width] of {0}\".format(I2.shape))\n",
    "print(\"The image I2 is made up of data of type {0}\".format(I2.dtype))\n",
    "print(\"The image I2 has a maximum value of {0}\".format(I2.max()))\n",
    "print(\"The image I2 has a minimum value of {0}\".format(I2.min()))"
   ]
  },
  {
   "cell_type": "code",
   "execution_count": null,
   "metadata": {
    "collapsed": false
   },
   "outputs": [],
   "source": [
    "plt.imshow(I2,cmap=plt.cm.gray);"
   ]
  },
  {
   "cell_type": "markdown",
   "metadata": {},
   "source": [
    "## Images are just arrays that can be sliced. \n",
    "\n",
    "- ### For common image formats the origin is the upper left hand corner"
   ]
  },
  {
   "cell_type": "code",
   "execution_count": null,
   "metadata": {
    "collapsed": false
   },
   "outputs": [],
   "source": [
    "fig, ax = plt.subplots(1,4)\n",
    "fig.set_size_inches(12,6)\n",
    "\n",
    "fig.tight_layout()\n",
    "\n",
    "# You can show just slices of the image - Rememeber: The origin is the upper left corner\n",
    "\n",
    "ax[0].imshow(I2, cmap=plt.cm.gray)\n",
    "ax[0].set_xlabel('Original')\n",
    "\n",
    "ax[1].imshow(I2[0:300,0:100], cmap=plt.cm.gray)\n",
    "ax[1].set_xlabel('[0:300,0:100]')                 # 300 rows, 100 columns\n",
    "\n",
    "ax[2].imshow(I2[:,0:100], cmap=plt.cm.gray)       # \":\" = whole range\n",
    "ax[2].set_xlabel('[:,0:100]')                     # all rows, 100 columns\n",
    "\n",
    "ax[3].imshow(I2[:,::-1], cmap=plt.cm.gray);\n",
    "ax[3].set_xlabel('[:,::-1]')                      # reverse the columns"
   ]
  },
  {
   "cell_type": "code",
   "execution_count": null,
   "metadata": {
    "collapsed": false
   },
   "outputs": [],
   "source": [
    "fig, ax = plt.subplots(1,2)\n",
    "fig.set_size_inches(12,6)\n",
    "\n",
    "fig.tight_layout()\n",
    "\n",
    "CutLine = 300\n",
    "\n",
    "ax[0].imshow(I2, cmap=plt.cm.gray)\n",
    "ax[0].hlines(CutLine, 0, 194, color='b', linewidth=3)\n",
    "\n",
    "ax[1].plot(I2[CutLine,:], color='b', linewidth=3)\n",
    "ax[1].set_xlabel(\"X Value\")\n",
    "ax[1].set_ylabel(\"Pixel Value\")"
   ]
  },
  {
   "cell_type": "markdown",
   "metadata": {},
   "source": [
    "## Simple image manipulation"
   ]
  },
  {
   "cell_type": "code",
   "execution_count": null,
   "metadata": {
    "collapsed": false
   },
   "outputs": [],
   "source": [
    "from scipy import ndimage"
   ]
  },
  {
   "cell_type": "code",
   "execution_count": null,
   "metadata": {
    "collapsed": false
   },
   "outputs": [],
   "source": [
    "fig, ax = plt.subplots(1,5)\n",
    "fig.set_size_inches(14,6)\n",
    "\n",
    "fig.tight_layout()\n",
    "\n",
    "ax[0].imshow(I2, cmap=plt.cm.gray)\n",
    "\n",
    "I3 = ndimage.rotate(I2,45,cval=0.75)               # cval is the value to set pixels outside of image\n",
    "ax[1].imshow(I3, cmap=plt.cm.gray)                 # Rotate and reshape\n",
    "\n",
    "I4 = ndimage.rotate(I2,45,reshape=False,cval=0.75) # Roatate and do not reshape\n",
    "ax[2].imshow(I4, cmap=plt.cm.gray)\n",
    "\n",
    "I5 = ndimage.shift(I2,(10,30),cval=0.75)           # Shift image      \n",
    "ax[3].imshow(I5, cmap=plt.cm.gray)\n",
    "\n",
    "I6 = ndimage.gaussian_filter(I2,5)                # Blur image\n",
    "ax[4].imshow(I6, cmap=plt.cm.gray);"
   ]
  },
  {
   "cell_type": "markdown",
   "metadata": {},
   "source": [
    "### `ndimage` can do much more: http://scipy-lectures.github.io/advanced/image_processing/"
   ]
  },
  {
   "cell_type": "markdown",
   "metadata": {},
   "source": [
    "---\n",
    "\n",
    "## FITS file (Flexible Image Transport System) - Standard Astro File Format\n",
    "- **FITS format preserves dynamic range of data**\n",
    "- FITS format can include lists, tables, images, and combunations of different types of data"
   ]
  },
  {
   "cell_type": "code",
   "execution_count": null,
   "metadata": {
    "collapsed": false
   },
   "outputs": [],
   "source": [
    "import astropy.io.fits as fits"
   ]
  },
  {
   "cell_type": "code",
   "execution_count": null,
   "metadata": {
    "collapsed": false
   },
   "outputs": [],
   "source": [
    "x = fits.open('bsg01.fits')\n",
    "\n",
    "x.info()"
   ]
  },
  {
   "cell_type": "code",
   "execution_count": null,
   "metadata": {
    "collapsed": false
   },
   "outputs": [],
   "source": [
    "x[0].header"
   ]
  },
  {
   "cell_type": "code",
   "execution_count": null,
   "metadata": {
    "collapsed": false
   },
   "outputs": [],
   "source": [
    "xd = x[0].data\n",
    "\n",
    "print(\"The image x has a shape [height,width] of {0}\".format(xd.shape))\n",
    "print(\"The image x is made up of data of type {0}\".format(xd.dtype))\n",
    "print(\"The image x has a maximum value of {0}\".format(xd.max()))\n",
    "print(\"The image x has a minimum value of {0}\".format(xd.min()))"
   ]
  },
  {
   "cell_type": "code",
   "execution_count": null,
   "metadata": {
    "collapsed": false
   },
   "outputs": [],
   "source": [
    "fig, ax = plt.subplots(1,2)\n",
    "\n",
    "fig.set_size_inches(12,6)\n",
    "\n",
    "fig.tight_layout()\n",
    "\n",
    "ax[0].imshow(xd,cmap=plt.cm.gray)\n",
    "\n",
    "ax[1].hist(xd.flatten(),bins=20);"
   ]
  },
  {
   "cell_type": "markdown",
   "metadata": {},
   "source": [
    "## You can use masks on images"
   ]
  },
  {
   "cell_type": "code",
   "execution_count": null,
   "metadata": {
    "collapsed": false
   },
   "outputs": [],
   "source": [
    "CopyData = np.copy(xd)\n",
    "\n",
    "CutOff = 40\n",
    "\n",
    "mask = np.where(CopyData > CutOff)\n",
    "CopyData[mask] = CutOff                 # You can not just throw data away, you have to set it to something.\n",
    "\n",
    "fig, ax = plt.subplots(1,2)\n",
    "\n",
    "fig.set_size_inches(12,6)\n",
    "\n",
    "fig.tight_layout()\n",
    "\n",
    "ax[0].imshow(CopyData,cmap=plt.cm.gray)\n",
    "\n",
    "ax[1].hist(CopyData.flatten(),bins=20);"
   ]
  },
  {
   "cell_type": "markdown",
   "metadata": {},
   "source": [
    "## You can add and subtract images"
   ]
  },
  {
   "cell_type": "code",
   "execution_count": null,
   "metadata": {
    "collapsed": false
   },
   "outputs": [],
   "source": [
    "fig, ax = plt.subplots(1,2)\n",
    "fig.set_size_inches(12,6)\n",
    "\n",
    "fig.tight_layout()\n",
    "\n",
    "ax[0].imshow(xd, cmap=plt.cm.gray)\n",
    "\n",
    "# Open another file 'bsg02.fits'\n",
    "\n",
    "y = fits.open('bsg02.fits')\n",
    "yd = y[0].data\n",
    "\n",
    "ax[1].imshow(yd, cmap=plt.cm.gray);"
   ]
  },
  {
   "cell_type": "markdown",
   "metadata": {},
   "source": [
    "### The two images above may look the same but they are not! Subtracting the two images reveals the truth."
   ]
  },
  {
   "cell_type": "code",
   "execution_count": null,
   "metadata": {
    "collapsed": false
   },
   "outputs": [],
   "source": [
    "fig, ax = plt.subplots(1,3)\n",
    "fig.set_size_inches(12,6)\n",
    "\n",
    "fig.tight_layout()\n",
    "\n",
    "ax[0].imshow(xd, cmap=plt.cm.gray)\n",
    "ax[1].imshow(yd, cmap=plt.cm.gray)\n",
    "\n",
    "z = xd - yd                          # Subtract the images pixel by pixel\n",
    "\n",
    "ax[2].imshow(z, cmap=plt.cm.gray);"
   ]
  },
  {
   "cell_type": "markdown",
   "metadata": {},
   "source": [
    "## Fits Tables - An astronomical example\n",
    "\n",
    "* Stellar spectra data from the [ESO Library of Stellar Spectra](http://www.eso.org/sci/facilities/paranal/decommissioned/isaac/tools/lib.html)"
   ]
  },
  {
   "cell_type": "code",
   "execution_count": null,
   "metadata": {
    "collapsed": false
   },
   "outputs": [],
   "source": [
    "S = fits.open('SolarSpectra.fits')\n",
    "\n",
    "S.info()"
   ]
  },
  {
   "cell_type": "code",
   "execution_count": null,
   "metadata": {
    "collapsed": false
   },
   "outputs": [],
   "source": [
    "Data = S[0].data"
   ]
  },
  {
   "cell_type": "code",
   "execution_count": null,
   "metadata": {
    "collapsed": false
   },
   "outputs": [],
   "source": [
    "Head = S[0].header\n",
    "Head"
   ]
  },
  {
   "cell_type": "code",
   "execution_count": null,
   "metadata": {
    "collapsed": false
   },
   "outputs": [],
   "source": [
    "# The FITS header has the information to make an array of wavelengths\n",
    "\n",
    "Start = Head['CRVAL1']\n",
    "Number = Head['NAXIS1']\n",
    "Delta  = Head['CDELT1']\n",
    "\n",
    "End = Start + (Number * Delta)\n",
    "\n",
    "Wavelength = np.arange(Start,End,Delta)"
   ]
  },
  {
   "cell_type": "code",
   "execution_count": null,
   "metadata": {
    "collapsed": false
   },
   "outputs": [],
   "source": [
    "fig, ax = plt.subplots(2,1)\n",
    "fig.set_size_inches(11,8.5)\n",
    "\n",
    "fig.tight_layout()\n",
    "\n",
    "# Full spectra\n",
    "\n",
    "ax[0].plot(Wavelength, Data, color='b')\n",
    "ax[0].set_ylabel(\"Flux\")\n",
    "ax[0].set_xlabel(\"Wavelength [angstroms]\")\n",
    "\n",
    "# Just the visible range with the hydrogen Balmer lines\n",
    "\n",
    "ax[1].set_xlim(4000,7000)\n",
    "ax[1].set_ylim(0.6,1.2)\n",
    "ax[1].plot(Wavelength, Data, color='b')\n",
    "ax[1].set_ylabel(\"Flux\")\n",
    "ax[1].set_xlabel(\"Wavelength [angstroms]\")\n",
    "\n",
    "H_Balmer = [6563,4861,4341,4102,3970,3889,3835,3646]\n",
    "\n",
    "ax[1].vlines(H_Balmer,0,2, color='r', linewidth=3, alpha = 0.25)"
   ]
  },
  {
   "cell_type": "markdown",
   "metadata": {},
   "source": [
    "## Pseudocolor - All color astronomy images are fake."
   ]
  },
  {
   "cell_type": "markdown",
   "metadata": {},
   "source": [
    "### Color images are composed of three 2-d images: <img src=\"images/Layers.png\" width=\"150\">"
   ]
  },
  {
   "cell_type": "markdown",
   "metadata": {},
   "source": [
    "### JPG images are 3-d, even grayscale images"
   ]
  },
  {
   "cell_type": "code",
   "execution_count": null,
   "metadata": {
    "collapsed": false
   },
   "outputs": [],
   "source": [
    "redfilter = plt.imread('sphereR.jpg')\n",
    "\n",
    "redfilter.shape,redfilter.dtype"
   ]
  },
  {
   "cell_type": "markdown",
   "metadata": {},
   "source": [
    "### We just want to read in one of the three channels"
   ]
  },
  {
   "cell_type": "code",
   "execution_count": null,
   "metadata": {
    "collapsed": false
   },
   "outputs": [],
   "source": [
    "redfilter = plt.imread('sphereR.jpg')[:,:,0]\n",
    "\n",
    "redfilter.shape,redfilter.dtype"
   ]
  },
  {
   "cell_type": "code",
   "execution_count": null,
   "metadata": {
    "collapsed": false
   },
   "outputs": [],
   "source": [
    "plt.imshow(redfilter,cmap=plt.cm.gray);"
   ]
  },
  {
   "cell_type": "code",
   "execution_count": null,
   "metadata": {
    "collapsed": false
   },
   "outputs": [],
   "source": [
    "greenfilter = plt.imread('sphereG.jpg')[:,:,0]\n",
    "bluefilter = plt.imread('sphereB.jpg')[:,:,0]"
   ]
  },
  {
   "cell_type": "code",
   "execution_count": null,
   "metadata": {
    "collapsed": false
   },
   "outputs": [],
   "source": [
    "fig, ax = plt.subplots(1,3)\n",
    "fig.set_size_inches(12,3)\n",
    "\n",
    "fig.tight_layout()\n",
    "\n",
    "ax[0].set_title(\"Red Filter\")\n",
    "ax[1].set_title(\"Green Filter\")\n",
    "ax[2].set_title(\"Blue Filter\")\n",
    "\n",
    "ax[0].imshow(redfilter,cmap=plt.cm.gray)\n",
    "ax[1].imshow(greenfilter,cmap=plt.cm.gray)\n",
    "ax[2].imshow(bluefilter,cmap=plt.cm.gray);"
   ]
  },
  {
   "cell_type": "markdown",
   "metadata": {},
   "source": [
    "### Need to create a blank 3-d array to hold all of the images"
   ]
  },
  {
   "cell_type": "code",
   "execution_count": null,
   "metadata": {
    "collapsed": false
   },
   "outputs": [],
   "source": [
    "rgb = np.zeros((480,640,3),dtype='uint8')\n",
    "\n",
    "print(rgb.shape, rgb.dtype)\n",
    "\n",
    "plt.imshow(rgb,cmap=plt.cm.gray);"
   ]
  },
  {
   "cell_type": "markdown",
   "metadata": {},
   "source": [
    "## Fill the array with the filtered images"
   ]
  },
  {
   "cell_type": "code",
   "execution_count": null,
   "metadata": {
    "collapsed": false
   },
   "outputs": [],
   "source": [
    "rgb[:,:,0] = redfilter\n",
    "rgb[:,:,1] = greenfilter\n",
    "rgb[:,:,2] = bluefilter"
   ]
  },
  {
   "cell_type": "code",
   "execution_count": null,
   "metadata": {
    "collapsed": false
   },
   "outputs": [],
   "source": [
    "fig, ax = plt.subplots(1,4)\n",
    "fig.set_size_inches(14,3)\n",
    "\n",
    "fig.tight_layout()\n",
    "\n",
    "ax[0].set_title(\"Red Filter\")\n",
    "ax[1].set_title(\"Green Filter\")\n",
    "ax[2].set_title(\"Blue Filter\")\n",
    "ax[3].set_title(\"All Filters Stacked\")\n",
    "\n",
    "ax[0].imshow(redfilter,cmap=plt.cm.gray)\n",
    "ax[1].imshow(greenfilter,cmap=plt.cm.gray)\n",
    "ax[2].imshow(bluefilter,cmap=plt.cm.gray)\n",
    "ax[3].imshow(rgb,cmap=plt.cm.gray);"
   ]
  },
  {
   "cell_type": "code",
   "execution_count": null,
   "metadata": {
    "collapsed": false
   },
   "outputs": [],
   "source": [
    "print(\"The image rgb has a shape [height,width] of {0}\".format(rgb.shape))\n",
    "print(\"The image rgb is made up of data of type {0}\".format(rgb.dtype))\n",
    "print(\"The image rgb has a maximum value of {0}\".format(rgb.max()))\n",
    "print(\"The image rgb has a minimum value of {0}\".format(rgb.min()))"
   ]
  },
  {
   "cell_type": "code",
   "execution_count": null,
   "metadata": {
    "collapsed": false
   },
   "outputs": [],
   "source": [
    "rgb[:,:,0] = redfilter * 1.5\n",
    "\n",
    "plt.imshow(rgb)"
   ]
  },
  {
   "cell_type": "code",
   "execution_count": null,
   "metadata": {
    "collapsed": true
   },
   "outputs": [],
   "source": []
  }
 ],
 "metadata": {
  "kernelspec": {
   "display_name": "Python 3",
   "language": "python",
   "name": "python3"
  },
  "language_info": {
   "codemirror_mode": {
    "name": "ipython",
    "version": 3
   },
   "file_extension": ".py",
   "mimetype": "text/x-python",
   "name": "python",
   "nbconvert_exporter": "python",
   "pygments_lexer": "ipython3",
   "version": "3.4.4"
  }
 },
 "nbformat": 4,
 "nbformat_minor": 0
}
