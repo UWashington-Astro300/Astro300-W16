{
 "cells": [
  {
   "cell_type": "markdown",
   "metadata": {},
   "source": [
    "# First Last - Homework 3"
   ]
  },
  {
   "cell_type": "markdown",
   "metadata": {},
   "source": [
    "* Use the `Astropy` units and constants packages to solve the following problems.\n",
    "* Do not hardcode any constants!\n",
    "* Unless asked, your units should be in the simplest SI units possible"
   ]
  },
  {
   "cell_type": "code",
   "execution_count": null,
   "metadata": {
    "collapsed": false
   },
   "outputs": [],
   "source": [
    "import numpy as np\n",
    "\n",
    "from astropy import units as u\n",
    "from astropy import constants as const\n",
    "from astropy.units import imperial\n",
    "imperial.enable()"
   ]
  },
  {
   "cell_type": "markdown",
   "metadata": {},
   "source": [
    "### Impulse is a change in momentum\n",
    "\n",
    "$$ I = \\Delta\\ p\\ =\\ m\\Delta v $$"
   ]
  },
  {
   "cell_type": "markdown",
   "metadata": {},
   "source": [
    "**Problem 1** - Calculate the $\\Delta$v that would be the result of an impuse of 700 (N * s) for M = 338 kg."
   ]
  },
  {
   "cell_type": "code",
   "execution_count": null,
   "metadata": {
    "collapsed": false
   },
   "outputs": [],
   "source": [
    "I = 700 * u.N * u.s\n",
    "\n",
    "m = 338 * u.kg\n",
    "\n",
    "dv = I/m\n",
    "\n",
    "dv.si"
   ]
  },
  {
   "cell_type": "markdown",
   "metadata": {},
   "source": [
    "**Problem 2** - Calculate the $\\Delta$v that would be the result of an impuse of 700 (lbf * s) for M = 338 kg."
   ]
  },
  {
   "cell_type": "code",
   "execution_count": null,
   "metadata": {
    "collapsed": false
   },
   "outputs": [],
   "source": [
    "I = 700 * imperial.lbf * u.s\n",
    "\n",
    "m = 338 * u.kg\n",
    "\n",
    "dv = I/m\n",
    "\n",
    "dv.si"
   ]
  },
  {
   "cell_type": "markdown",
   "metadata": {},
   "source": [
    "This is the unit conversion error that doomed the [Mars Climate Orbiter](https://en.wikipedia.org/wiki/Mars_Climate_Orbiter)"
   ]
  },
  {
   "cell_type": "markdown",
   "metadata": {},
   "source": [
    "### The range of a projectile launched with a velocity (v) at and angle ($\\theta$) is\n",
    "\n",
    "$$R\\ =\\  {v^2 \\over g}\\ sin(2\\theta)$$"
   ]
  },
  {
   "cell_type": "markdown",
   "metadata": {},
   "source": [
    "**Problem 3** - Find R for v = 123 mph and $\\theta$ = 1000 arc minutes"
   ]
  },
  {
   "cell_type": "code",
   "execution_count": null,
   "metadata": {
    "collapsed": false
   },
   "outputs": [],
   "source": [
    "v = 123 * (imperial.mi / u.h)\n",
    "\n",
    "theta = 1000 * u.arcmin\n",
    "\n",
    "R = (v**2 / const.g0) * np.sin(2 * theta)\n",
    "\n",
    "R.decompose()"
   ]
  },
  {
   "cell_type": "markdown",
   "metadata": {},
   "source": [
    "**Problem 4** - How fast to you have to throw a football at 33.3 degrees that that is goes exactly 100 yards. Express your answer in mph"
   ]
  },
  {
   "cell_type": "code",
   "execution_count": null,
   "metadata": {
    "collapsed": false
   },
   "outputs": [],
   "source": [
    "theta = 33.3 * u.deg\n",
    "\n",
    "R = 100 * imperial.yd\n",
    "\n",
    "v = np.sqrt(R * const.g0 / np.sin(2 * theta))\n",
    "\n",
    "v.to(imperial.mi / u.h)"
   ]
  },
  {
   "cell_type": "markdown",
   "metadata": {},
   "source": [
    "### Kepler's third law can be expressed as:\n",
    "\n",
    "$$ T^2 = \\left( {{4\\pi^2} \\over {GM}} \\right)\\ r^3 $$\n",
    "\n",
    "Where **T** is the orbial period of an object at distance (**r**) around a central object of mass (**M**).\n",
    "\n",
    "It assumes the mass of the orbiting object is small compared to the mass of the central object."
   ]
  },
  {
   "cell_type": "markdown",
   "metadata": {},
   "source": [
    "**Problem 5** - Calculate the orbital period of HST. HST orbits 353 miles above the surface of the Earth. Expess your answer in minutes."
   ]
  },
  {
   "cell_type": "code",
   "execution_count": null,
   "metadata": {
    "collapsed": false
   },
   "outputs": [],
   "source": [
    "d = 353 * imperial.mi\n",
    "\n",
    "r = const.R_earth + d\n",
    "\n",
    "G = const.G\n",
    "\n",
    "M = const.M_earth\n",
    "\n",
    "T = np.sqrt( (4 * np.pi**2 * r**3) / (G * M) )\n",
    "\n",
    "T.to(u.min)"
   ]
  },
  {
   "cell_type": "markdown",
   "metadata": {},
   "source": [
    "** Problem 6 ** - An exoplanet orbits the star Epsilon Tauri in 595 days at a distance of 1.93 AU. Calculate the mass of Epsilon Tauri in terms of solar masses."
   ]
  },
  {
   "cell_type": "code",
   "execution_count": null,
   "metadata": {
    "collapsed": false
   },
   "outputs": [],
   "source": [
    "T = 595 * u.d\n",
    "\n",
    "r = 1.93 * u.AU\n",
    "\n",
    "M = (4 * np.pi**2 * r**3) / (G * T**2)\n",
    "\n",
    "M.to(u.solMass)"
   ]
  },
  {
   "cell_type": "markdown",
   "metadata": {},
   "source": [
    "### The Power being received by a solar panel in space can be expressed as:\n",
    "\n",
    "$$ I\\  =\\ {{L_{\\odot}} \\over {4 \\pi d^2}}\\ \\varepsilon$$\n",
    "\n",
    "Where **I** is the power *per unit area* at a distance (**d**) from the Sun, and $\\varepsilon$ is the efficiency of the solar panel.\n",
    "\n",
    "The solar panels that power spacecraft have an efficiency of about 40%."
   ]
  },
  {
   "cell_type": "markdown",
   "metadata": {},
   "source": [
    "** Problem 7 ** -  The New Horizons spacecraft uses 220 Watts of power.\n",
    "\n",
    "Calculate the area of a solar panel that would be needed to power New Horizons at a distance of 1 AU from the Sun."
   ]
  },
  {
   "cell_type": "code",
   "execution_count": null,
   "metadata": {
    "collapsed": false
   },
   "outputs": [],
   "source": [
    "d = 1 * u.AU\n",
    "\n",
    "NH = 220 * u.W\n",
    "\n",
    "E = 0.40\n",
    "\n",
    "I = E * const.L_sun / (4 * np.pi * d**2)\n",
    "\n",
    "Im = I.to(u.W / u.m **2)\n",
    "\n",
    "np.sqrt(NH / Im)"
   ]
  },
  {
   "cell_type": "markdown",
   "metadata": {},
   "source": [
    "** Problem 8 ** - Same question as above but now a d = 30 AU."
   ]
  },
  {
   "cell_type": "code",
   "execution_count": null,
   "metadata": {
    "collapsed": false
   },
   "outputs": [],
   "source": [
    "d = 30 * u.AU\n",
    "\n",
    "I = E * const.L_sun / (4 * np.pi * d**2)\n",
    "\n",
    "Im = I.to(u.W / u.m **2)\n",
    "\n",
    "np.sqrt(NH / Im)"
   ]
  },
  {
   "cell_type": "markdown",
   "metadata": {},
   "source": [
    "** Problem 9 ** - The main part of the Oort cloud is thought to be at a distance of about 10,000 AU.\n",
    "\n",
    "Calculate the size of the solar panel New Horizons would need to operate in the Oort cloud.\n",
    "\n",
    "Express your answer in units of the area of an American football field (120 yd x 53.3 yd)."
   ]
  },
  {
   "cell_type": "code",
   "execution_count": null,
   "metadata": {
    "collapsed": false
   },
   "outputs": [],
   "source": [
    "football = u.def_unit('football', (120 * imperial.yd) * (53.3 * imperial.yd))\n",
    "\n",
    "d = 10000 * u.AU\n",
    "\n",
    "I = E * const.L_sun / (4 * np.pi * d**2)\n",
    "\n",
    "Im = I.to(u.W / u.m **2)\n",
    "\n",
    "(NH / Im).to(football)"
   ]
  },
  {
   "cell_type": "markdown",
   "metadata": {},
   "source": [
    "** Problem 10 ** - Calculate the maximum distance from the Sun can you be where a solar panel of 1 football field can power the New Horizons spacecraft. Express your answer in AU."
   ]
  },
  {
   "cell_type": "code",
   "execution_count": null,
   "metadata": {
    "collapsed": false
   },
   "outputs": [],
   "source": [
    "I_NH = NH / (1 * football)\n",
    "\n",
    "D = np.sqrt(const.L_sun / (4 * np.pi * I_NH) * E)\n",
    "\n",
    "D.to(u.AU)"
   ]
  }
 ],
 "metadata": {
  "kernelspec": {
   "display_name": "Python 3",
   "language": "python",
   "name": "python3"
  },
  "language_info": {
   "codemirror_mode": {
    "name": "ipython",
    "version": 3
   },
   "file_extension": ".py",
   "mimetype": "text/x-python",
   "name": "python",
   "nbconvert_exporter": "python",
   "pygments_lexer": "ipython3",
   "version": "3.4.3"
  }
 },
 "nbformat": 4,
 "nbformat_minor": 0
}
